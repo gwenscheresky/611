{
 "cells": [
  {
   "cell_type": "code",
   "execution_count": 2,
   "metadata": {},
   "outputs": [],
   "source": [
    "import pandas as pd\n",
    "import stats\n",
    "\n",
    "data = pd.read_excel(\"Gwen_Project_Data.xlsx\", index_col = [1])"
   ]
  },
  {
   "cell_type": "code",
   "execution_count": 3,
   "metadata": {},
   "outputs": [
    {
     "data": {
      "text/plain": [
       "(1764, 10)"
      ]
     },
     "execution_count": 3,
     "metadata": {},
     "output_type": "execute_result"
    }
   ],
   "source": [
    "data.shape"
   ]
  },
  {
   "cell_type": "code",
   "execution_count": 4,
   "metadata": {},
   "outputs": [
    {
     "data": {
      "text/plain": [
       "<bound method NDFrame.keys of               Date Alberta, MN Jasper, MN Ida Grove, IA St. Joseph, MO  \\\n",
       "Ayr, ND                                                                  \n",
       "-0.5350 2013-01-02      -0.205     -0.405        -0.335          0.085   \n",
       "-0.5600 2013-01-03                  -0.43         -0.37           0.05   \n",
       "-0.6200 2013-01-04       -0.47      -0.49         -0.38              0   \n",
       "-0.5675 2013-01-07     -0.4775    -0.4875       -0.3875        -0.0075   \n",
       "-0.6175 2013-01-08     -0.5275    -0.5375       -0.4375        -0.0575   \n",
       "...            ...         ...        ...           ...            ...   \n",
       "-0.9950 2019-12-27      -0.685     -0.545        -0.505         -0.185   \n",
       "-0.9950 2019-12-30      -0.645     -0.545        -0.495         -0.205   \n",
       "-0.9700 2019-12-31       -0.64      -0.55          -0.5          -0.24   \n",
       "-0.8825 2020-01-02     -0.6325    -0.5325       -0.5025        -0.2425   \n",
       "-0.8850 2020-01-03      -0.645     -0.535        -0.515         -0.255   \n",
       "\n",
       "        Barreirias Sorriso Rio Verde  Ponta Grossa Rondonopolis  \n",
       "Ayr, ND                                                          \n",
       "-0.5350      1.655  -2.385    -1.245        1.0550       -0.805  \n",
       "-0.5600       1.75   -2.31     -0.69        0.4900        -0.73  \n",
       "-0.6200        1.4             -0.68        0.6000        -0.59  \n",
       "-0.5675     0.3125 -3.4675   -0.9075        0.6325      -2.1775  \n",
       "-0.6175    -0.2975 -3.5175   -1.7975       -0.2375      -2.4675  \n",
       "...            ...     ...       ...           ...          ...  \n",
       "-0.9950      0.035  -0.525     0.085        0.0950       -0.155  \n",
       "-0.9950      0.015  -0.545     0.065        0.1650       -0.175  \n",
       "-0.9700        NaN     NaN       NaN           NaN          NaN  \n",
       "-0.8825    -0.0725 -0.6325   -0.0225        0.0975      -0.2625  \n",
       "-0.8850      0.045  -0.515     0.095        0.1850       -0.145  \n",
       "\n",
       "[1764 rows x 10 columns]>"
      ]
     },
     "execution_count": 4,
     "metadata": {},
     "output_type": "execute_result"
    }
   ],
   "source": [
    "data.keys"
   ]
  },
  {
   "cell_type": "code",
   "execution_count": null,
   "metadata": {},
   "outputs": [],
   "source": []
  }
 ],
 "metadata": {
  "kernelspec": {
   "display_name": "Python 3",
   "language": "python",
   "name": "python3"
  },
  "language_info": {
   "codemirror_mode": {
    "name": "ipython",
    "version": 3
   },
   "file_extension": ".py",
   "mimetype": "text/x-python",
   "name": "python",
   "nbconvert_exporter": "python",
   "pygments_lexer": "ipython3",
   "version": "3.8.3"
  }
 },
 "nbformat": 4,
 "nbformat_minor": 4
}
