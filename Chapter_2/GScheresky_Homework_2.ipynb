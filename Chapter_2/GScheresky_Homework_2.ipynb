{
 "cells": [
  {
   "cell_type": "markdown",
   "metadata": {},
   "source": [
    "## Homework\n",
    "Create a Jupyter notebook that explains the rule of 70 (or 72 if you prefer). Compare the rule of 70 to analytical and computational solutions.\n",
    "\n",
    "1.For all interest rates from 1% to 10%, at intervals of 1%, calculate the length of time required for an investment to double in value for each interest rate. Recall that for an investment that has doubled in size:\n",
    "\n",
    "$\\frac{FV}{PV} = 2$\n",
    "\n",
    "$2 = (1+r)^t$\n",
    "\n",
    "$ln(2) = tln(1+r)$\n",
    "\n",
    "$t = \\frac{ln(2)}{ln(1+r)}$\n",
    "\n",
    "Use the above solution to solve for $t$ for each $r$. Print the solution in a table by using \"\\n\" and \"\\t\" in the >print function when appropriate.\n",
    "\n",
    "*Your script must use a for loop or for loops to find the solutions.\n",
    "\n",
    "2.In a dictionary, save the length of time required to double the value of an investment for each interest rate. The structure of your dictionary should be as follows: use \"Time to double\" as a key in the first layer of the dictionary. This should point to another dictionary that indicates the number of periods required to double the value of an investment for each interest rate. The first layer of keys will also include \"Rule of 70\" (or \"... of 72\") and \"Computational Solution\", each of which point to another dictionary where the approximated solutions will be saved.\n",
    "\n",
    "Use the following to start. Solve the problem computationally, then ave the completed dictionary as a dataframe (import pandas; and pass the dictionary to a DataFrame). Save this dataframe as a csv.\n",
    "\n",
    "dct = {\"Time to double\": {r: np.log(2) / np.log(1+r/100) for r in range(1,11,1)}, \"Rule of 70\":{r:70 / r for r in range(1,11)}, \"Computational Solution\": {}}\n",
    "\n",
    "## Graduate Homework\n",
    "\n",
    "3.Use for loops to create a list of prime numbers between 2 and 1000."
   ]
  },
  {
   "cell_type": "markdown",
   "metadata": {},
   "source": [
    "---"
   ]
  },
  {
   "cell_type": "markdown",
   "metadata": {},
   "source": [
    "# #1"
   ]
  },
  {
   "cell_type": "code",
   "execution_count": 65,
   "metadata": {},
   "outputs": [
    {
     "data": {
      "text/plain": [
       "{1: 69.9,\n",
       " 2: 35,\n",
       " 3: 23.499999999999993,\n",
       " 4: 17.699999999999996,\n",
       " 5: 14.200000000000003,\n",
       " 6: 11.9,\n",
       " 7: 10.210000000000003,\n",
       " 8: 9,\n",
       " 9: 8.020000000000003,\n",
       " 10: 7.250000000000002}"
      ]
     },
     "execution_count": 65,
     "metadata": {},
     "output_type": "execute_result"
    }
   ],
   "source": [
    "Time_dict = {}\n",
    "for r in range(1, 11, 1):\n",
    "    PV = 1\n",
    "    rate = r/100\n",
    "    t = 1 \n",
    "    margin = 1\n",
    "    FV = 1\n",
    "    final_FV = 2\n",
    "    below_final_FV = True\n",
    "    decrease_margin = False\n",
    "    while round(FV, 2) != final_FV:\n",
    "        if decrease_margin:\n",
    "            margin = margin * 0.1\n",
    "            decrease_margin = False\n",
    "        t = t + margin if FV < final_FV else t - margin\n",
    "        FV = PV * (1 + rate) ** t\n",
    "        if below_final_FV == True and FV > final_FV:\n",
    "            decrease_margin = True\n",
    "            below_final_FV = False\n",
    "        if below_final_FV == False and FV < final_FV:\n",
    "            decrease_margin = True\n",
    "            below_final_FV = True\n",
    "    Time_dict[r] = t\n",
    "Time_dict"
   ]
  },
  {
   "cell_type": "markdown",
   "metadata": {},
   "source": [
    "The code begins with defining a dictionary, which would be better aptly named \"Computational Solution\" since that's what is represents in terms of the assignment. The for loop defines a range from 1-10 in steps of 1. The PV, t, FV, are included within the for loop so that they reset each time. Rate instructs it to divide r by 100 since integers are required in a range. Final FV is double PV. The while loop instructs that when FV is less than the desired FV of 2, increase margin of t until FV is greater than 2, then decrease it, oscillating around 2 to get closer to the desired FV and determine the time it takes to get there."
   ]
  },
  {
   "cell_type": "markdown",
   "metadata": {},
   "source": [
    "# #2"
   ]
  },
  {
   "cell_type": "code",
   "execution_count": 105,
   "metadata": {},
   "outputs": [
    {
     "data": {
      "text/html": [
       "<div>\n",
       "<style scoped>\n",
       "    .dataframe tbody tr th:only-of-type {\n",
       "        vertical-align: middle;\n",
       "    }\n",
       "\n",
       "    .dataframe tbody tr th {\n",
       "        vertical-align: top;\n",
       "    }\n",
       "\n",
       "    .dataframe thead th {\n",
       "        text-align: right;\n",
       "    }\n",
       "</style>\n",
       "<table border=\"1\" class=\"dataframe\">\n",
       "  <thead>\n",
       "    <tr style=\"text-align: right;\">\n",
       "      <th></th>\n",
       "      <th>Time to double</th>\n",
       "      <th>Rule of 72</th>\n",
       "      <th>Rule of 70</th>\n",
       "      <th>Computation Solution</th>\n",
       "    </tr>\n",
       "  </thead>\n",
       "  <tbody>\n",
       "    <tr>\n",
       "      <th>1</th>\n",
       "      <td>69.660717</td>\n",
       "      <td>72.000000</td>\n",
       "      <td>70.000000</td>\n",
       "      <td>69.90</td>\n",
       "    </tr>\n",
       "    <tr>\n",
       "      <th>2</th>\n",
       "      <td>35.002789</td>\n",
       "      <td>36.000000</td>\n",
       "      <td>35.000000</td>\n",
       "      <td>35.00</td>\n",
       "    </tr>\n",
       "    <tr>\n",
       "      <th>3</th>\n",
       "      <td>23.449772</td>\n",
       "      <td>24.000000</td>\n",
       "      <td>23.333333</td>\n",
       "      <td>23.50</td>\n",
       "    </tr>\n",
       "    <tr>\n",
       "      <th>4</th>\n",
       "      <td>17.672988</td>\n",
       "      <td>18.000000</td>\n",
       "      <td>17.500000</td>\n",
       "      <td>17.70</td>\n",
       "    </tr>\n",
       "    <tr>\n",
       "      <th>5</th>\n",
       "      <td>14.206699</td>\n",
       "      <td>14.400000</td>\n",
       "      <td>14.000000</td>\n",
       "      <td>14.20</td>\n",
       "    </tr>\n",
       "    <tr>\n",
       "      <th>6</th>\n",
       "      <td>11.895661</td>\n",
       "      <td>12.000000</td>\n",
       "      <td>11.666667</td>\n",
       "      <td>11.90</td>\n",
       "    </tr>\n",
       "    <tr>\n",
       "      <th>7</th>\n",
       "      <td>10.244768</td>\n",
       "      <td>10.285714</td>\n",
       "      <td>10.000000</td>\n",
       "      <td>10.21</td>\n",
       "    </tr>\n",
       "    <tr>\n",
       "      <th>8</th>\n",
       "      <td>9.006468</td>\n",
       "      <td>9.000000</td>\n",
       "      <td>8.750000</td>\n",
       "      <td>9.00</td>\n",
       "    </tr>\n",
       "    <tr>\n",
       "      <th>9</th>\n",
       "      <td>8.043232</td>\n",
       "      <td>8.000000</td>\n",
       "      <td>7.777778</td>\n",
       "      <td>8.02</td>\n",
       "    </tr>\n",
       "    <tr>\n",
       "      <th>10</th>\n",
       "      <td>7.272541</td>\n",
       "      <td>7.200000</td>\n",
       "      <td>7.000000</td>\n",
       "      <td>7.25</td>\n",
       "    </tr>\n",
       "  </tbody>\n",
       "</table>\n",
       "</div>"
      ],
      "text/plain": [
       "    Time to double  Rule of 72  Rule of 70  Computation Solution\n",
       "1        69.660717   72.000000   70.000000                 69.90\n",
       "2        35.002789   36.000000   35.000000                 35.00\n",
       "3        23.449772   24.000000   23.333333                 23.50\n",
       "4        17.672988   18.000000   17.500000                 17.70\n",
       "5        14.206699   14.400000   14.000000                 14.20\n",
       "6        11.895661   12.000000   11.666667                 11.90\n",
       "7        10.244768   10.285714   10.000000                 10.21\n",
       "8         9.006468    9.000000    8.750000                  9.00\n",
       "9         8.043232    8.000000    7.777778                  8.02\n",
       "10        7.272541    7.200000    7.000000                  7.25"
      ]
     },
     "execution_count": 105,
     "metadata": {},
     "output_type": "execute_result"
    }
   ],
   "source": [
    "import numpy as np\n",
    "dct = {}\n",
    "dct[\"Time to double\"] = {}\n",
    "dct[\"Rule of 72\"] = {}\n",
    "dct[\"Rule of 70\"] = {}\n",
    "dct[\"Computation Solution\"] = {}\n",
    "for r in range (1, 11, 1):\n",
    "    dct[\"Time to double\"][r] = np.log(2) / np.log(1+r/100)\n",
    "    dct[\"Rule of 72\"][r] = 72/r \n",
    "    dct[\"Rule of 70\"][r] = 70/r \n",
    "    rate = r/100\n",
    "    t = 1 \n",
    "    margin = 1\n",
    "    PV = 1\n",
    "    FV = 1\n",
    "    final_FV = 2\n",
    "    below_final_FV = True\n",
    "    decrease_margin = False\n",
    "    while round(FV, 2) != final_FV:\n",
    "        if decrease_margin:\n",
    "            margin = margin * 0.1\n",
    "            decrease_margin = False\n",
    "        t = t + margin if FV < final_FV else t - margin\n",
    "        FV = PV * (1 + rate) ** t\n",
    "        if below_final_FV == True and FV > final_FV:\n",
    "            decrease_margin = True\n",
    "            below_final_FV = False\n",
    "        if below_final_FV == False and FV < final_FV:\n",
    "            decrease_margin = True\n",
    "            below_final_FV = True\n",
    "        \n",
    "    dct[\"Computation Solution\"][r] = t\n",
    "        \n",
    "\n",
    "import pandas\n",
    "pd.DataFrame(dct)"
   ]
  },
  {
   "cell_type": "code",
   "execution_count": 107,
   "metadata": {},
   "outputs": [],
   "source": [
    "df.to_csv('dct.csv')"
   ]
  },
  {
   "cell_type": "markdown",
   "metadata": {},
   "source": [
    "The Time to Double function is closest to the computational solution in most cases. When comparing the Rule of 70 and 72, 70 is closer when the interest rate 5% or lower, but 72 is closer for interest rates between 5 and 10%."
   ]
  },
  {
   "cell_type": "markdown",
   "metadata": {},
   "source": [
    "---"
   ]
  },
  {
   "cell_type": "markdown",
   "metadata": {},
   "source": [
    "# 3"
   ]
  },
  {
   "cell_type": "code",
   "execution_count": 104,
   "metadata": {},
   "outputs": [
    {
     "name": "stdout",
     "output_type": "stream",
     "text": [
      "[3, 5, 7, 9, 11, 13, 15, 17, 19, 21, 23, 25, 27, 29, 31, 33, 35, 37, 39, 41, 43, 45, 47, 49, 51, 53, 55, 57, 59, 61, 63, 65, 67, 69, 71, 73, 75, 77, 79, 81, 83, 85, 87, 89, 91, 93, 95, 97, 99, 101, 103, 105, 107, 109, 111, 113, 115, 117, 119, 121, 123, 125, 127, 129, 131, 133, 135, 137, 139, 141, 143, 145, 147, 149, 151, 153, 155, 157, 159, 161, 163, 165, 167, 169, 171, 173, 175, 177, 179, 181, 183, 185, 187, 189, 191, 193, 195, 197, 199, 201, 203, 205, 207, 209, 211, 213, 215, 217, 219, 221, 223, 225, 227, 229, 231, 233, 235, 237, 239, 241, 243, 245, 247, 249, 251, 253, 255, 257, 259, 261, 263, 265, 267, 269, 271, 273, 275, 277, 279, 281, 283, 285, 287, 289, 291, 293, 295, 297, 299, 301, 303, 305, 307, 309, 311, 313, 315, 317, 319, 321, 323, 325, 327, 329, 331, 333, 335, 337, 339, 341, 343, 345, 347, 349, 351, 353, 355, 357, 359, 361, 363, 365, 367, 369, 371, 373, 375, 377, 379, 381, 383, 385, 387, 389, 391, 393, 395, 397, 399, 401, 403, 405, 407, 409, 411, 413, 415, 417, 419, 421, 423, 425, 427, 429, 431, 433, 435, 437, 439, 441, 443, 445, 447, 449, 451, 453, 455, 457, 459, 461, 463, 465, 467, 469, 471, 473, 475, 477, 479, 481, 483, 485, 487, 489, 491, 493, 495, 497, 499, 501, 503, 505, 507, 509, 511, 513, 515, 517, 519, 521, 523, 525, 527, 529, 531, 533, 535, 537, 539, 541, 543, 545, 547, 549, 551, 553, 555, 557, 559, 561, 563, 565, 567, 569, 571, 573, 575, 577, 579, 581, 583, 585, 587, 589, 591, 593, 595, 597, 599, 601, 603, 605, 607, 609, 611, 613, 615, 617, 619, 621, 623, 625, 627, 629, 631, 633, 635, 637, 639, 641, 643, 645, 647, 649, 651, 653, 655, 657, 659, 661, 663, 665, 667, 669, 671, 673, 675, 677, 679, 681, 683, 685, 687, 689, 691, 693, 695, 697, 699, 701, 703, 705, 707, 709, 711, 713, 715, 717, 719, 721, 723, 725, 727, 729, 731, 733, 735, 737, 739, 741, 743, 745, 747, 749, 751, 753, 755, 757, 759, 761, 763, 765, 767, 769, 771, 773, 775, 777, 779, 781, 783, 785, 787, 789, 791, 793, 795, 797, 799, 801, 803, 805, 807, 809, 811, 813, 815, 817, 819, 821, 823, 825, 827, 829, 831, 833, 835, 837, 839, 841, 843, 845, 847, 849, 851, 853, 855, 857, 859, 861, 863, 865, 867, 869, 871, 873, 875, 877, 879, 881, 883, 885, 887, 889, 891, 893, 895, 897, 899, 901, 903, 905, 907, 909, 911, 913, 915, 917, 919, 921, 923, 925, 927, 929, 931, 933, 935, 937, 939, 941, 943, 945, 947, 949, 951, 953, 955, 957, 959, 961, 963, 965, 967, 969, 971, 973, 975, 977, 979, 981, 983, 985, 987, 989, 991, 993, 995, 997, 999]\n"
     ]
    }
   ],
   "source": [
    "lst1 = []\n",
    "for x in range(1,1001):\n",
    "    for i in range(2,x):\n",
    "        if (x%i==0):\n",
    "            break\n",
    "        else:\n",
    "            lst1.append(x)\n",
    "            break\n",
    "print(lst1)"
   ]
  },
  {
   "cell_type": "markdown",
   "metadata": {},
   "source": [
    "Explanation: This is a combination of the list tactics we learned at the beginning of for loops, a for loop, and an if/else statement. It defines a list first. Then the for loop defines the range 1 to 1001 to make sure we get all the prime numbers between 2 and 1000. The second for loop tests for divisbility by all the numbers in the first for loop, careful to disclude 1. There it breaks and moves on if the x is divisible by any i not zero or x. If the number x is not divisble by any numbers besides x and therefore prime, then the else statement appends it to the list. The second break was neccesary to tell the computer to move on from that number after printing. Otherwise, it was testing and printing the prime numbers a multitude of times. The last command simply prints the list."
   ]
  },
  {
   "cell_type": "code",
   "execution_count": null,
   "metadata": {},
   "outputs": [],
   "source": []
  }
 ],
 "metadata": {
  "kernelspec": {
   "display_name": "Python 3",
   "language": "python",
   "name": "python3"
  },
  "language_info": {
   "codemirror_mode": {
    "name": "ipython",
    "version": 3
   },
   "file_extension": ".py",
   "mimetype": "text/x-python",
   "name": "python",
   "nbconvert_exporter": "python",
   "pygments_lexer": "ipython3",
   "version": "3.7.6"
  }
 },
 "nbformat": 4,
 "nbformat_minor": 4
}
