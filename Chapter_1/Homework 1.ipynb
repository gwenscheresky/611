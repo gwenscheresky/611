{
 "cells": [
  {
   "cell_type": "markdown",
   "metadata": {},
   "source": [
    "# Homework 1.1\n",
    "\n",
    "## This is my personal dictionary.\n",
    "\n",
    "I will create a dictionary that identifies my name, area of study, motivation for taking 611, and plans for after I graduate from NDSU. I will transform it into a dataframe which I will print and save as a csv file."
   ]
  },
  {
   "cell_type": "code",
   "execution_count": 8,
   "metadata": {},
   "outputs": [
    {
     "name": "stdout",
     "output_type": "stream",
     "text": [
      "{'Gwen': {'Name': 'Gwen Marie Scheresky', 'Degree Pursuing': 'Masters in Agribusiness and Applied Economics', '611 Motivation': 'I want to add programming languages to my portfolio, specifically Python.', 'Post-Graduation Plans': 'I plan to get married and either find a job or pursue my PhD out-of-state.'}}\n"
     ]
    }
   ],
   "source": [
    "dct_personal = {\"Gwen\" : {\"Name\": \"Gwen Marie Scheresky\", \n",
    "                 \"Degree Pursuing\" : \"Masters in Agribusiness and Applied Economics\",\n",
    "                \"611 Motivation\" : \"I want to add programming languages to my portfolio, specifically Python.\",\n",
    "                \"Post-Graduation Plans\":\"I plan to get married and either find a job or pursue my PhD out-of-state.\"}}\n",
    "\n",
    "print (dct_personal)"
   ]
  },
  {
   "cell_type": "code",
   "execution_count": 12,
   "metadata": {},
   "outputs": [
    {
     "data": {
      "text/html": [
       "<div>\n",
       "<style scoped>\n",
       "    .dataframe tbody tr th:only-of-type {\n",
       "        vertical-align: middle;\n",
       "    }\n",
       "\n",
       "    .dataframe tbody tr th {\n",
       "        vertical-align: top;\n",
       "    }\n",
       "\n",
       "    .dataframe thead th {\n",
       "        text-align: right;\n",
       "    }\n",
       "</style>\n",
       "<table border=\"1\" class=\"dataframe\">\n",
       "  <thead>\n",
       "    <tr style=\"text-align: right;\">\n",
       "      <th></th>\n",
       "      <th>Gwen</th>\n",
       "    </tr>\n",
       "  </thead>\n",
       "  <tbody>\n",
       "    <tr>\n",
       "      <th>611 Motivation</th>\n",
       "      <td>I want to add programming languages to my port...</td>\n",
       "    </tr>\n",
       "    <tr>\n",
       "      <th>Degree Pursuing</th>\n",
       "      <td>Masters in Agribusiness and Applied Economics</td>\n",
       "    </tr>\n",
       "    <tr>\n",
       "      <th>Name</th>\n",
       "      <td>Gwen Marie Scheresky</td>\n",
       "    </tr>\n",
       "    <tr>\n",
       "      <th>Post-Graduation Plans</th>\n",
       "      <td>I plan to get married and either find a job or...</td>\n",
       "    </tr>\n",
       "  </tbody>\n",
       "</table>\n",
       "</div>"
      ],
      "text/plain": [
       "                                                                    Gwen\n",
       "611 Motivation         I want to add programming languages to my port...\n",
       "Degree Pursuing            Masters in Agribusiness and Applied Economics\n",
       "Name                                                Gwen Marie Scheresky\n",
       "Post-Graduation Plans  I plan to get married and either find a job or..."
      ]
     },
     "execution_count": 12,
     "metadata": {},
     "output_type": "execute_result"
    }
   ],
   "source": [
    "import pandas as pd\n",
    "df = pd.DataFrame(dct_personal)\n",
    "df"
   ]
  },
  {
   "cell_type": "code",
   "execution_count": 14,
   "metadata": {},
   "outputs": [],
   "source": [
    "df.to_csv('dct_personal.csv')"
   ]
  },
  {
   "cell_type": "markdown",
   "metadata": {},
   "source": [
    "# Homework 1.2\n",
    "## This is my list of professionals and specialists whom I admire.\n",
    "\n",
    "I will create a dictionary that identifies each admirable person by name, and profession. It will include a short biography and a link to their website or social profile. I will transform it into a datagrame which I will print and save as a csv file."
   ]
  },
  {
   "cell_type": "code",
   "execution_count": 5,
   "metadata": {},
   "outputs": [
    {
     "name": "stdout",
     "output_type": "stream",
     "text": [
      "{'Galen Scheresky': {'Profession': 'Farmer, Agribusiness owner, Certified Crop Advisor, part-time cattle rancher for his kids', 'Biography': 'Galen Scheresky graduated from NDSU with a Bachelors degree in Agriculture Economics in 1993. He worked as a banker and cattle rancher, and in 1999 he started his own chemical application business. He and his wife have now managed Scheresky Ag Service for 20 years, a full-service agronomy center in Max, ND. He and his two middle children still retain some cows for fun and some haying equipment to make sure to spend hot July days in a cabless tractor. In his free time, he enjoys operating the combine, going to the lake with his family, and going on crop tour date nights with his wife.', 'Website': 'https://www.schereskyagservice.com/'}, 'Bonnie Scheresky': {'Profession': 'Farmer, Agribusiness owner, Certified Crop Advisor, momager', 'Biography': 'Bonnie Scheresky graduated from NDSU with a Bachelors degree in Animal Science in 1994. She helped her husband build their business from one rented sprayer to now a full-fledged agronomy center Scheresky Ag Service. She manages 4 kids and their various endeavors while keeping the farm and business operating at top efficiency, no easy task. In her free time she likes to put around in the garden, buy chickens for her youngest kid to take care of (per tradition), and spend time outdoors with her husband, kids, and grandkid.', 'Website': 'https://www.schereskyagservice.com/'}, 'Camille Grade': {'Profession': 'VP of Marketing at Bushel', 'Biography': 'Camille is in charge of Bushel’s marketing and communication efforts. Prior to working at Bushel, she spent 10+ years doing fundraising, development, and program management at a public broadcasting station, a nationally accredited art museum, and a regional chamber of commerce. These days when she’s not analyzing marketing statistics, writing, researching, or planning events, you can find her traveling with her husband, lounging at the lake, spoiling her nieces and nephew, mindlessly clicking on Medium articles, and volunteering on the board of trustees for the United Way of Cass-Clay. A native of Borup, MN, she grew up on a family farm and was a terrible farm kid. To this day, she still doesn’t know how to drive a stick shift.', 'Website': 'https://bushelpowered.com/people/camille-grade/'}, 'Bill Wilson': {'Profession': 'Distinguished University Professor, Graduate Advisor', 'Biography': 'William W. Wilson was named Distinguished University Professor in 2007 and is a Professor in the Department of Agribusiness and Applied Economics at North Dakota State University, Fargo. He has been working in the areas related to grain marketing, transportation, and logistics. His academic teaching covers these topics at the undergraduate and graduate levels. His research program at North Dakota State University is focused on grain marketing, transportation, international trade, and marketing and logistics. In these capacities, he has had numerous awards, has served as a guest lecturer around the world, has served on the Board of Directors for the Minneapolis Grain Exchange, and has provided advice to numerous international companies and countries on related issues.', 'Website': 'https://www.ndsu.edu/agecon/faculty/wilson/'}, 'Amanda Huettl': {'Profession': 'Agriculture Educator at Max Public School', 'Biography': \"Amanda Huettl graduated from NDSU with a degree in Agriculture Education. She worked in Drake, ND before starting an Agriculture Education and Max FFA program in Max, ND. Her FFA kids and her two real kids are her pride and joy, with the former winning multiple state championships in various events and the latter being future FFA members and current Max FFA tag-alongs. Mrs. Huettl and her Max FFA members currently hold the District Leadership Chapter of the Day 8-Peat Championship Trophy, won in close competition with her husband's neighboring Garrison FFA program.\", 'Website': 'https://www.max.k12.nd.us/teacher_pages/28383/bio'}, 'Heather Milbrath': {'Profession': 'Marketing Manager at Gooseneck', 'Biography': \"Heather graduated from NDSU with a degree in Marketing Communications. She grew up running John Deere green machines, and it was only natural that she would become head of marketing at the state's wester John Deere dealer, Gooseneck. She is from Bottineau but will soon moving to Towner with her corgi Abe to marry her fiancee and become a certified ranch wife while still continuing her work as Gooseneck's go-to for all things marketing and PR\", 'Website': 'https://gooseneckimp.com/Dealer-Info/Locations/Gooseneck-Business-Center-(1)'}, 'Matt Walsh': {'Profession': 'Writer, Speaker, and Author', 'Biography': 'Matt Walsh is a writer, speaker, author, and one of the religious Right’s most influential young voices. He is known for boldly tackling the tough subjects and speaking out on faith and culture in a way that connects with his generation and beyond.', 'Website': 'https://www.dailywire.com/author/matt-walsh'}, 'J.K. Rowling': {'Profession': 'Author', 'Biography': 'Joanne Rowling was born on 31st July 1965 at Yate General Hospital near Bristol, and grew up in Gloucestershire in England and in Chepstow, Gwent, in south-east Wales. The young Jo grew up surrounded by books. “I lived for books,’’ she has said. “I was your basic common-or-garden bookworm, complete with freckles and National Health spectacles.”', 'Website': 'https://www.jkrowling.com/'}, 'Alfreda Sauer': {'Profession': 'Stay-at-home mom, farmer, dairy farmer, and matriarch of the Sauer family', 'Biography': 'Alfreda Sauer was born in 1935 and has 7 siblings. She is husband to John, a mother of 10, grandmother of 49, and great grand mother of 30. She loves to pray and garden.', 'Website': 'N/A'}, 'Saint John Paul II': {'Profession': 'Former Priest and Pope, Catholic Saint', 'Biography': 'Pope John Paul II was the head of the Catholic Church and sovereign of the Vatican City State from 1978 until his death in 2005. He was elected pope by the second papal conclave of 1978, which was called after Pope John Paul I, who had been elected in August to succeed Pope Paul VI, died after 33 days. Cardinal Wojtyła was elected on the third day of the conclave and adopted the name of his predecessor in tribute to him. John Paul II is recognised as helping to end Communist rule in his native Poland and eventually all of Europe.', 'Website': 'http://www.vatican.va/content/john-paul-ii/en.html'}}\n"
     ]
    }
   ],
   "source": [
    "admirables_dct = {\"Galen Scheresky\":{ \"Profession\":\"Farmer, Agribusiness owner, Certified Crop Advisor, part-time cattle rancher for his kids\",\n",
    "                                    \"Biography\":\"Galen Scheresky graduated from NDSU with a Bachelors degree in Agriculture Economics in 1993. He worked as a banker and cattle rancher, and in 1999 he started his own chemical application business. He and his wife have now managed Scheresky Ag Service for 20 years, a full-service agronomy center in Max, ND. He and his two middle children still retain some cows for fun and some haying equipment to make sure to spend hot July days in a cabless tractor. In his free time, he enjoys operating the combine, going to the lake with his family, and going on crop tour date nights with his wife.\",\n",
    "                                    \"Website\" : \"https://www.schereskyagservice.com/\"},\n",
    "                \"Bonnie Scheresky\":{ \"Profession\":\"Farmer, Agribusiness owner, Certified Crop Advisor, momager\",\n",
    "                                    \"Biography\":\"Bonnie Scheresky graduated from NDSU with a Bachelors degree in Animal Science in 1994. She helped her husband build their business from one rented sprayer to now a full-fledged agronomy center Scheresky Ag Service. She manages 4 kids and their various endeavors while keeping the farm and business operating at top efficiency, no easy task. In her free time she likes to put around in the garden, buy chickens for her youngest kid to take care of (per tradition), and spend time outdoors with her husband, kids, and grandkid.\",\n",
    "                                    \"Website\" : \"https://www.schereskyagservice.com/\"},\n",
    "                \"Camille Grade\":{ \"Profession\":\"VP of Marketing at Bushel\",\n",
    "                                    \"Biography\":\"Camille is in charge of Bushel’s marketing and communication efforts. Prior to working at Bushel, she spent 10+ years doing fundraising, development, and program management at a public broadcasting station, a nationally accredited art museum, and a regional chamber of commerce. These days when she’s not analyzing marketing statistics, writing, researching, or planning events, you can find her traveling with her husband, lounging at the lake, spoiling her nieces and nephew, mindlessly clicking on Medium articles, and volunteering on the board of trustees for the United Way of Cass-Clay. A native of Borup, MN, she grew up on a family farm and was a terrible farm kid. To this day, she still doesn’t know how to drive a stick shift.\",\n",
    "                                    \"Website\" : \"https://bushelpowered.com/people/camille-grade/\"},\n",
    "                \"Bill Wilson\":{ \"Profession\":\"Distinguished University Professor, Graduate Advisor\",\n",
    "                                    \"Biography\":\"William W. Wilson was named Distinguished University Professor in 2007 and is a Professor in the Department of Agribusiness and Applied Economics at North Dakota State University, Fargo. He has been working in the areas related to grain marketing, transportation, and logistics. His academic teaching covers these topics at the undergraduate and graduate levels. His research program at North Dakota State University is focused on grain marketing, transportation, international trade, and marketing and logistics. In these capacities, he has had numerous awards, has served as a guest lecturer around the world, has served on the Board of Directors for the Minneapolis Grain Exchange, and has provided advice to numerous international companies and countries on related issues.\",\n",
    "                                    \"Website\" : \"https://www.ndsu.edu/agecon/faculty/wilson/\"},\n",
    "                \"Amanda Huettl\":{ \"Profession\":\"Agriculture Educator at Max Public School\",\n",
    "                                    \"Biography\":\"Amanda Huettl graduated from NDSU with a degree in Agriculture Education. She worked in Drake, ND before starting an Agriculture Education and Max FFA program in Max, ND. Her FFA kids and her two real kids are her pride and joy, with the former winning multiple state championships in various events and the latter being future FFA members and current Max FFA tag-alongs. Mrs. Huettl and her Max FFA members currently hold the District Leadership Chapter of the Day 8-Peat Championship Trophy, won in close competition with her husband's neighboring Garrison FFA program.\",\n",
    "                                    \"Website\" : \"https://www.max.k12.nd.us/teacher_pages/28383/bio\"},\n",
    "                \"Heather Milbrath\":{ \"Profession\":\"Marketing Manager at Gooseneck\",\n",
    "                                    \"Biography\":\"Heather graduated from NDSU with a degree in Marketing Communications. She grew up running John Deere green machines, and it was only natural that she would become head of marketing at the state's wester John Deere dealer, Gooseneck. She is from Bottineau but will soon moving to Towner with her corgi Abe to marry her fiancee and become a certified ranch wife while still continuing her work as Gooseneck's go-to for all things marketing and PR\",\n",
    "                                    \"Website\" : \"https://gooseneckimp.com/Dealer-Info/Locations/Gooseneck-Business-Center-(1)\"},\n",
    "                \"Matt Walsh\":{ \"Profession\":\"Writer, Speaker, and Author\",\n",
    "                                    \"Biography\":\"Matt Walsh is a writer, speaker, author, and one of the religious Right’s most influential young voices. He is known for boldly tackling the tough subjects and speaking out on faith and culture in a way that connects with his generation and beyond.\",\n",
    "                                    \"Website\" : \"https://www.dailywire.com/author/matt-walsh\"},\n",
    "                \"J.K. Rowling\":{ \"Profession\":\"Author\",\n",
    "                                    \"Biography\":\"Joanne Rowling was born on 31st July 1965 at Yate General Hospital near Bristol, and grew up in Gloucestershire in England and in Chepstow, Gwent, in south-east Wales. The young Jo grew up surrounded by books. “I lived for books,’’ she has said. “I was your basic common-or-garden bookworm, complete with freckles and National Health spectacles.”\",\n",
    "                                    \"Website\" : \"https://www.jkrowling.com/\"},\n",
    "                \"Alfreda Sauer\":{ \"Profession\":\"Stay-at-home mom, farmer, dairy farmer, and matriarch of the Sauer family\",\n",
    "                                    \"Biography\":\"Alfreda Sauer was born in 1935 and has 7 siblings. She is husband to John, a mother of 10, grandmother of 49, and great grand mother of 30. She loves to pray and garden.\",\n",
    "                                    \"Website\" : \"N/A\"},\n",
    "                \"Saint John Paul II\":{ \"Profession\":\"Former Priest and Pope, Catholic Saint\",\n",
    "                                    \"Biography\":\"Pope John Paul II was the head of the Catholic Church and sovereign of the Vatican City State from 1978 until his death in 2005. He was elected pope by the second papal conclave of 1978, which was called after Pope John Paul I, who had been elected in August to succeed Pope Paul VI, died after 33 days. Cardinal Wojtyła was elected on the third day of the conclave and adopted the name of his predecessor in tribute to him. John Paul II is recognised as helping to end Communist rule in his native Poland and eventually all of Europe.\",\n",
    "                                    \"Website\" : \"http://www.vatican.va/content/john-paul-ii/en.html\"},                 \n",
    "                 }\n",
    "\n",
    "print (admirables_dct)"
   ]
  },
  {
   "cell_type": "code",
   "execution_count": 16,
   "metadata": {
    "scrolled": true
   },
   "outputs": [
    {
     "data": {
      "text/html": [
       "<div>\n",
       "<style scoped>\n",
       "    .dataframe tbody tr th:only-of-type {\n",
       "        vertical-align: middle;\n",
       "    }\n",
       "\n",
       "    .dataframe tbody tr th {\n",
       "        vertical-align: top;\n",
       "    }\n",
       "\n",
       "    .dataframe thead th {\n",
       "        text-align: right;\n",
       "    }\n",
       "</style>\n",
       "<table border=\"1\" class=\"dataframe\">\n",
       "  <thead>\n",
       "    <tr style=\"text-align: right;\">\n",
       "      <th></th>\n",
       "      <th>Galen Scheresky</th>\n",
       "      <th>Bonnie Scheresky</th>\n",
       "      <th>Camille Grade</th>\n",
       "      <th>Bill Wilson</th>\n",
       "      <th>Amanda Huettl</th>\n",
       "      <th>Heather Milbrath</th>\n",
       "      <th>Matt Walsh</th>\n",
       "      <th>J.K. Rowling</th>\n",
       "      <th>Alfreda Sauer</th>\n",
       "      <th>Saint John Paul II</th>\n",
       "    </tr>\n",
       "  </thead>\n",
       "  <tbody>\n",
       "    <tr>\n",
       "      <th>Profession</th>\n",
       "      <td>Farmer, Agribusiness owner, Certified Crop Adv...</td>\n",
       "      <td>Farmer, Agribusiness owner, Certified Crop Adv...</td>\n",
       "      <td>VP of Marketing at Bushel</td>\n",
       "      <td>Distinguished University Professor, Graduate A...</td>\n",
       "      <td>Agriculture Educator at Max Public School</td>\n",
       "      <td>Marketing Manager at Gooseneck</td>\n",
       "      <td>Writer, Speaker, and Author</td>\n",
       "      <td>Author</td>\n",
       "      <td>Stay-at-home mom, farmer, dairy farmer, and ma...</td>\n",
       "      <td>Former Priest and Pope, Catholic Saint</td>\n",
       "    </tr>\n",
       "    <tr>\n",
       "      <th>Biography</th>\n",
       "      <td>Galen Scheresky graduated from NDSU with a Bac...</td>\n",
       "      <td>Bonnie Scheresky graduated from NDSU with a Ba...</td>\n",
       "      <td>Camille is in charge of Bushel’s marketing and...</td>\n",
       "      <td>William W. Wilson was named Distinguished Univ...</td>\n",
       "      <td>Amanda Huettl graduated from NDSU with a degre...</td>\n",
       "      <td>Heather graduated from NDSU with a degree in M...</td>\n",
       "      <td>Matt Walsh is a writer, speaker, author, and o...</td>\n",
       "      <td>Joanne Rowling was born on 31st July 1965 at Y...</td>\n",
       "      <td>Alfreda Sauer was born in 1935 and has 7 sibli...</td>\n",
       "      <td>Pope John Paul II was the head of the Catholic...</td>\n",
       "    </tr>\n",
       "    <tr>\n",
       "      <th>Website</th>\n",
       "      <td>https://www.schereskyagservice.com/</td>\n",
       "      <td>https://www.schereskyagservice.com/</td>\n",
       "      <td>https://bushelpowered.com/people/camille-grade/</td>\n",
       "      <td>https://www.ndsu.edu/agecon/faculty/wilson/</td>\n",
       "      <td>https://www.max.k12.nd.us/teacher_pages/28383/bio</td>\n",
       "      <td>https://gooseneckimp.com/Dealer-Info/Locations...</td>\n",
       "      <td>https://www.dailywire.com/author/matt-walsh</td>\n",
       "      <td>https://www.jkrowling.com/</td>\n",
       "      <td>N/A</td>\n",
       "      <td>http://www.vatican.va/content/john-paul-ii/en....</td>\n",
       "    </tr>\n",
       "  </tbody>\n",
       "</table>\n",
       "</div>"
      ],
      "text/plain": [
       "                                              Galen Scheresky  \\\n",
       "Profession  Farmer, Agribusiness owner, Certified Crop Adv...   \n",
       "Biography   Galen Scheresky graduated from NDSU with a Bac...   \n",
       "Website                   https://www.schereskyagservice.com/   \n",
       "\n",
       "                                             Bonnie Scheresky  \\\n",
       "Profession  Farmer, Agribusiness owner, Certified Crop Adv...   \n",
       "Biography   Bonnie Scheresky graduated from NDSU with a Ba...   \n",
       "Website                   https://www.schereskyagservice.com/   \n",
       "\n",
       "                                                Camille Grade  \\\n",
       "Profession                          VP of Marketing at Bushel   \n",
       "Biography   Camille is in charge of Bushel’s marketing and...   \n",
       "Website       https://bushelpowered.com/people/camille-grade/   \n",
       "\n",
       "                                                  Bill Wilson  \\\n",
       "Profession  Distinguished University Professor, Graduate A...   \n",
       "Biography   William W. Wilson was named Distinguished Univ...   \n",
       "Website           https://www.ndsu.edu/agecon/faculty/wilson/   \n",
       "\n",
       "                                                Amanda Huettl  \\\n",
       "Profession          Agriculture Educator at Max Public School   \n",
       "Biography   Amanda Huettl graduated from NDSU with a degre...   \n",
       "Website     https://www.max.k12.nd.us/teacher_pages/28383/bio   \n",
       "\n",
       "                                             Heather Milbrath  \\\n",
       "Profession                     Marketing Manager at Gooseneck   \n",
       "Biography   Heather graduated from NDSU with a degree in M...   \n",
       "Website     https://gooseneckimp.com/Dealer-Info/Locations...   \n",
       "\n",
       "                                                   Matt Walsh  \\\n",
       "Profession                        Writer, Speaker, and Author   \n",
       "Biography   Matt Walsh is a writer, speaker, author, and o...   \n",
       "Website           https://www.dailywire.com/author/matt-walsh   \n",
       "\n",
       "                                                 J.K. Rowling  \\\n",
       "Profession                                             Author   \n",
       "Biography   Joanne Rowling was born on 31st July 1965 at Y...   \n",
       "Website                            https://www.jkrowling.com/   \n",
       "\n",
       "                                                Alfreda Sauer  \\\n",
       "Profession  Stay-at-home mom, farmer, dairy farmer, and ma...   \n",
       "Biography   Alfreda Sauer was born in 1935 and has 7 sibli...   \n",
       "Website                                                   N/A   \n",
       "\n",
       "                                           Saint John Paul II  \n",
       "Profession             Former Priest and Pope, Catholic Saint  \n",
       "Biography   Pope John Paul II was the head of the Catholic...  \n",
       "Website     http://www.vatican.va/content/john-paul-ii/en....  "
      ]
     },
     "execution_count": 16,
     "metadata": {},
     "output_type": "execute_result"
    }
   ],
   "source": [
    "import pandas as pd\n",
    "df2 = pd.DataFrame(admirables_dct)\n",
    "df2"
   ]
  },
  {
   "cell_type": "code",
   "execution_count": 17,
   "metadata": {},
   "outputs": [],
   "source": [
    "df2.to_csv('dct_admirables.csv')"
   ]
  },
  {
   "cell_type": "code",
   "execution_count": null,
   "metadata": {},
   "outputs": [],
   "source": []
  }
 ],
 "metadata": {
  "kernelspec": {
   "display_name": "Python 3",
   "language": "python",
   "name": "python3"
  },
  "language_info": {
   "codemirror_mode": {
    "name": "ipython",
    "version": 3
   },
   "file_extension": ".py",
   "mimetype": "text/x-python",
   "name": "python",
   "nbconvert_exporter": "python",
   "pygments_lexer": "ipython3",
   "version": "3.7.6"
  }
 },
 "nbformat": 4,
 "nbformat_minor": 4
}
